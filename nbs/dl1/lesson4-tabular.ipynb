{
 "cells": [
  {
   "cell_type": "markdown",
   "metadata": {},
   "source": [
    "# Tabular models"
   ]
  },
  {
   "cell_type": "code",
   "execution_count": 1,
   "metadata": {
    "collapsed": true
   },
   "outputs": [],
   "source": [
    "from fastai import *\n",
    "from fastai.tabular import *"
   ]
  },
  {
   "cell_type": "markdown",
   "metadata": {},
   "source": [
    "Tabular data should be in a Pandas `DataFrame`."
   ]
  },
  {
   "cell_type": "code",
   "execution_count": 2,
   "metadata": {},
   "outputs": [],
   "source": [
    "path = untar_data(URLs.ADULT_SAMPLE)\n",
    "df = pd.read_csv(path/'adult.csv')"
   ]
  },
  {
   "cell_type": "code",
   "execution_count": 3,
   "metadata": {
    "collapsed": true
   },
   "outputs": [],
   "source": [
    "dep_var = '>=50k'\n",
    "cat_names = ['workclass', 'education', 'marital-status', 'occupation', 'relationship', 'race']\n",
    "cont_names = ['age', 'fnlwgt', 'education-num']\n",
    "procs = [FillMissing, Categorify, Normalize]"
   ]
  },
  {
   "cell_type": "code",
   "execution_count": 4,
   "metadata": {
    "collapsed": true
   },
   "outputs": [],
   "source": [
    "test = TabularList.from_df(df.iloc[800:1000].copy(), path=path, cat_names=cat_names, cont_names=cont_names)"
   ]
  },
  {
   "cell_type": "code",
   "execution_count": 5,
   "metadata": {
    "collapsed": true
   },
   "outputs": [],
   "source": [
    "data = (TabularList.from_df(df, path=path, cat_names=cat_names, cont_names=cont_names, procs=procs)\n",
    "                           .split_by_idx(list(range(800,1000)))\n",
    "                           .label_from_df(cols=dep_var)\n",
    "                           .add_test(test, label=0)\n",
    "                           .databunch())"
   ]
  },
  {
   "cell_type": "code",
   "execution_count": 8,
   "metadata": {},
   "outputs": [
    {
     "data": {
      "text/html": [
       "<table>  <col width='10px'>  <col width='10px'>  <col width='10px'>  <col width='10px'>  <col width='10px'>  <col width='10px'>  <col width='10px'>  <col width='10px'>  <col width='10px'>  <col width='10px'>  <col width='10px'>  <tr>\n",
       "    <th>workclass</th>\n",
       "    <th>education</th>\n",
       "    <th>marital-status</th>\n",
       "    <th>occupation</th>\n",
       "    <th>relationship</th>\n",
       "    <th>race</th>\n",
       "    <th>education-num_na</th>\n",
       "    <th>age</th>\n",
       "    <th>fnlwgt</th>\n",
       "    <th>education-num</th>\n",
       "    <th>target</th>\n",
       "  </tr>\n",
       "  <tr>\n",
       "    <th> Self-emp-inc</th>\n",
       "    <th> Bachelors</th>\n",
       "    <th> Married-civ-spouse</th>\n",
       "    <th> Exec-managerial</th>\n",
       "    <th> Husband</th>\n",
       "    <th> White</th>\n",
       "    <th>False</th>\n",
       "    <th>-0.2629</th>\n",
       "    <th>-1.1765</th>\n",
       "    <th>1.1422</th>\n",
       "    <th>1</th>\n",
       "  </tr>\n",
       "  <tr>\n",
       "    <th> Private</th>\n",
       "    <th> Bachelors</th>\n",
       "    <th> Married-civ-spouse</th>\n",
       "    <th> Exec-managerial</th>\n",
       "    <th> Husband</th>\n",
       "    <th> White</th>\n",
       "    <th>False</th>\n",
       "    <th>-0.1163</th>\n",
       "    <th>3.7761</th>\n",
       "    <th>1.1422</th>\n",
       "    <th>1</th>\n",
       "  </tr>\n",
       "  <tr>\n",
       "    <th> Federal-gov</th>\n",
       "    <th> Assoc-voc</th>\n",
       "    <th> Divorced</th>\n",
       "    <th> Exec-managerial</th>\n",
       "    <th> Unmarried</th>\n",
       "    <th> Black</th>\n",
       "    <th>False</th>\n",
       "    <th>0.7632</th>\n",
       "    <th>0.2535</th>\n",
       "    <th>0.3599</th>\n",
       "    <th>0</th>\n",
       "  </tr>\n",
       "  <tr>\n",
       "    <th> Self-emp-not-inc</th>\n",
       "    <th> HS-grad</th>\n",
       "    <th> Married-civ-spouse</th>\n",
       "    <th> Craft-repair</th>\n",
       "    <th> Husband</th>\n",
       "    <th> White</th>\n",
       "    <th>False</th>\n",
       "    <th>0.9098</th>\n",
       "    <th>-0.7003</th>\n",
       "    <th>-0.4224</th>\n",
       "    <th>0</th>\n",
       "  </tr>\n",
       "  <tr>\n",
       "    <th> Private</th>\n",
       "    <th> Some-college</th>\n",
       "    <th> Married-civ-spouse</th>\n",
       "    <th> Sales</th>\n",
       "    <th> Husband</th>\n",
       "    <th> Asian-Pac-Islander</th>\n",
       "    <th>False</th>\n",
       "    <th>1.7161</th>\n",
       "    <th>-1.0257</th>\n",
       "    <th>-0.0312</th>\n",
       "    <th>1</th>\n",
       "  </tr>\n",
       "  <tr>\n",
       "    <th> Private</th>\n",
       "    <th> 9th</th>\n",
       "    <th> Never-married</th>\n",
       "    <th> Transport-moving</th>\n",
       "    <th> Other-relative</th>\n",
       "    <th> White</th>\n",
       "    <th>False</th>\n",
       "    <th>-0.9959</th>\n",
       "    <th>-0.1795</th>\n",
       "    <th>-1.9869</th>\n",
       "    <th>0</th>\n",
       "  </tr>\n",
       "  <tr>\n",
       "    <th> Private</th>\n",
       "    <th> Assoc-acdm</th>\n",
       "    <th> Divorced</th>\n",
       "    <th> Exec-managerial</th>\n",
       "    <th> Unmarried</th>\n",
       "    <th> Asian-Pac-Islander</th>\n",
       "    <th>False</th>\n",
       "    <th>-0.1896</th>\n",
       "    <th>0.5488</th>\n",
       "    <th>0.7511</th>\n",
       "    <th>0</th>\n",
       "  </tr>\n",
       "  <tr>\n",
       "    <th> Private</th>\n",
       "    <th> 12th</th>\n",
       "    <th> Divorced</th>\n",
       "    <th> Farming-fishing</th>\n",
       "    <th> Not-in-family</th>\n",
       "    <th> White</th>\n",
       "    <th>False</th>\n",
       "    <th>-0.7760</th>\n",
       "    <th>0.9997</th>\n",
       "    <th>-0.8135</th>\n",
       "    <th>0</th>\n",
       "  </tr>\n",
       "  <tr>\n",
       "    <th> Private</th>\n",
       "    <th> HS-grad</th>\n",
       "    <th> Married-civ-spouse</th>\n",
       "    <th> Machine-op-inspct</th>\n",
       "    <th> Husband</th>\n",
       "    <th> White</th>\n",
       "    <th>False</th>\n",
       "    <th>-0.7027</th>\n",
       "    <th>-0.0800</th>\n",
       "    <th>-0.4224</th>\n",
       "    <th>0</th>\n",
       "  </tr>\n",
       "  <tr>\n",
       "    <th> Private</th>\n",
       "    <th> Some-college</th>\n",
       "    <th> Divorced</th>\n",
       "    <th> Prof-specialty</th>\n",
       "    <th> Not-in-family</th>\n",
       "    <th> White</th>\n",
       "    <th>False</th>\n",
       "    <th>-0.7760</th>\n",
       "    <th>-0.7626</th>\n",
       "    <th>-0.0312</th>\n",
       "    <th>0</th>\n",
       "  </tr>\n",
       "</table>\n"
      ],
      "text/plain": [
       "<IPython.core.display.HTML object>"
      ]
     },
     "metadata": {},
     "output_type": "display_data"
    }
   ],
   "source": [
    "data.show_batch(rows=10)"
   ]
  },
  {
   "cell_type": "code",
   "execution_count": 17,
   "metadata": {
    "collapsed": true
   },
   "outputs": [],
   "source": [
    "learn = tabular_learner(data, layers=[200,100], metrics=accuracy)"
   ]
  },
  {
   "cell_type": "code",
   "execution_count": 18,
   "metadata": {},
   "outputs": [
    {
     "name": "stdout",
     "output_type": "stream",
     "text": [
      "Total time: 01:07\n",
      "epoch  train_loss  valid_loss  accuracy\n",
      "1      0.364740    0.369605    0.855000  (00:06)\n",
      "2      0.364280    0.371420    0.830000  (00:07)\n",
      "3      0.354370    0.375282    0.820000  (00:07)\n",
      "4      0.357400    0.353941    0.835000  (00:07)\n",
      "5      0.361649    0.345288    0.840000  (00:06)\n",
      "6      0.349195    0.349129    0.855000  (00:06)\n",
      "7      0.353884    0.355911    0.845000  (00:05)\n",
      "8      0.360744    0.354506    0.845000  (00:06)\n",
      "9      0.357280    0.343248    0.845000  (00:05)\n",
      "10     0.346791    0.348201    0.855000  (00:07)\n",
      "\n"
     ]
    }
   ],
   "source": [
    "learn.fit(10, 1e-2)"
   ]
  },
  {
   "cell_type": "markdown",
   "metadata": {},
   "source": [
    "## Inference"
   ]
  },
  {
   "cell_type": "code",
   "execution_count": 19,
   "metadata": {
    "collapsed": true
   },
   "outputs": [],
   "source": [
    "row = df.iloc[0]"
   ]
  },
  {
   "cell_type": "code",
   "execution_count": 20,
   "metadata": {},
   "outputs": [
    {
     "data": {
      "text/plain": [
       "(0, tensor(1), tensor([0.4540, 0.5460]))"
      ]
     },
     "execution_count": 20,
     "metadata": {},
     "output_type": "execute_result"
    }
   ],
   "source": [
    "learn.predict(row)"
   ]
  },
  {
   "cell_type": "code",
   "execution_count": null,
   "metadata": {
    "collapsed": true
   },
   "outputs": [],
   "source": []
  }
 ],
 "metadata": {
  "kernelspec": {
   "display_name": "Python 3",
   "language": "python",
   "name": "python3"
  },
  "language_info": {
   "codemirror_mode": {
    "name": "ipython",
    "version": 3
   },
   "file_extension": ".py",
   "mimetype": "text/x-python",
   "name": "python",
   "nbconvert_exporter": "python",
   "pygments_lexer": "ipython3",
   "version": "3.6.3"
  }
 },
 "nbformat": 4,
 "nbformat_minor": 2
}
